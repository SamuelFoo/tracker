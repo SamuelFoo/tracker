{
 "cells": [
  {
   "cell_type": "code",
   "execution_count": 1,
   "metadata": {},
   "outputs": [],
   "source": [
    "import cv2\n",
    "import imutils\n",
    "import numpy as np\n",
    "from pathlib import Path\n",
    "from natsort import natsorted\n",
    "import time\n",
    "import multiprocessing.pool\n",
    "import pandas as pd\n",
    "\n",
    "import matplotlib.pyplot as plt"
   ]
  },
  {
   "attachments": {},
   "cell_type": "markdown",
   "metadata": {},
   "source": [
    "# Functions"
   ]
  },
  {
   "cell_type": "code",
   "execution_count": 2,
   "metadata": {},
   "outputs": [],
   "source": [
    "def resize(frame, maxHeight=500, maxWidth=1500):\n",
    "    # If resize factor for height is greater than that of width\n",
    "    if frame.shape[0]/maxHeight > frame.shape[1]/maxWidth:\n",
    "        resizedFrame = imutils.resize(frame.copy(), height=maxHeight)\n",
    "    else:\n",
    "        resizedFrame = imutils.resize(frame.copy(), width=maxWidth)\n",
    "    return resizedFrame, resizedFrame.shape[0]/frame.shape[0]\n",
    "\n",
    "def getROIFromVideo(vidPath, fromCenter=False):\n",
    "    vs = cv2.VideoCapture(vidPath)\n",
    "    \n",
    "    ret, frame = vs.read()\n",
    "\n",
    "    # while ret:\n",
    "    #     ret, frame = vs.read()\n",
    "    #     dispFrame, _ = resize(frame)\n",
    "    #     cv2.imshow(\"Video\", dispFrame)\n",
    "    #     key = cv2.waitKey(0)\n",
    "    #     if key == ord('q') or key == 27:\n",
    "    #         break\n",
    "\n",
    "    return getROIFromFrame(frame)\n",
    "\n",
    "def getROIFromFrame(frame, fromCenter=False):\n",
    "    frame, scale = resize(frame)\n",
    "    r = cv2.selectROI(frame, fromCenter=fromCenter)\n",
    "    cv2.destroyAllWindows()\n",
    "\n",
    "    # If ROI invalid, return whole image\n",
    "    if len(np.unique(r)) < 4:\n",
    "        r = np.zeros(4).astype(\"int\")\n",
    "        r[3] = len(frame)\n",
    "        r[2] = len(frame[0])\n",
    "    \n",
    "    return np.round(np.array(r)/scale).astype(\"int\")\n",
    "\n",
    "def cropWithROI(frame, roi):\n",
    "    return frame[int(roi[1]):int(roi[1]+roi[3]), int(roi[0]):int(roi[0]+roi[2])]\n",
    "\n",
    "def getTemplatesFromVideo(vidPath, pipeline, templateWidth, templateHeight):\n",
    "    box = None\n",
    "    templates = []\n",
    "\n",
    "    def on_mouse(event, x, y, flags, userdata):\n",
    "        nonlocal box\n",
    "        # Draw box\n",
    "        if event == cv2.EVENT_LBUTTONDOWN:\n",
    "            p = (x,y)\n",
    "            p1 = (int(p[0]-templateWidth/2), int(p[1]-templateHeight/2))\n",
    "            p2 = (int(p[0]+templateWidth/2), int(p[1]+templateHeight/2))\n",
    "            box = [p1[0], p1[1], templateWidth, templateHeight]\n",
    "\n",
    "            frameDraw = frame.copy()\n",
    "            cv2.rectangle(frameDraw, p1, p2, (255, 0, 0), 1)\n",
    "            cv2.imshow('Frame', frameDraw)\n",
    "\n",
    "    cap = cv2.VideoCapture(vidPath)\n",
    "    cv2.namedWindow('Frame', cv2.WINDOW_AUTOSIZE)\n",
    "    cv2.setMouseCallback('Frame', on_mouse)\n",
    "\n",
    "    while cap.isOpened():\n",
    "        _, frame = cap.read()\n",
    "        frame = pipeline(frame)\n",
    "        \n",
    "        cv2.imshow(\"Frame\", frame)\n",
    "        key = cv2.waitKey(0)\n",
    "        if key == ord(\"q\") or key == ord(\"Q\"):\n",
    "            cap.release()\n",
    "            cv2.destroyAllWindows()\n",
    "\n",
    "        if key == ord(\"e\") or key == ord(\"E\"):\n",
    "            if box is not None:\n",
    "                templates.append(cropWithROI(frame, box))\n",
    "\n",
    "    return templates\n",
    "\n",
    "class SelectionWindow():\n",
    "\n",
    "    def __init__(self, title, frame):\n",
    "        self.title = title\n",
    "        self.frame = frame.copy()\n",
    "        \n",
    "        self.minPointsLeft = 0\n",
    "        self.func = self.callback_func\n",
    "\n",
    "        self.selectionPts = []\n",
    "       \n",
    "    def displayWindow(self):\n",
    "        cv2.namedWindow(self.title)\n",
    "        if self.func != None:\n",
    "            cv2.setMouseCallback(self.title, self.func)\n",
    "        cv2.imshow(self.title, self.frame)\n",
    "        \n",
    "        while True:\n",
    "            key = cv2.waitKey(0)\n",
    "            \n",
    "            if self.minPointsLeft <= 0 and key == 27:\n",
    "                cv2.destroyWindow(self.title) \n",
    "                break\n",
    "\n",
    "    def callback_func(self,event,x,y,flags,param):\n",
    "        if event == cv2.EVENT_LBUTTONDOWN or event == cv2.EVENT_RBUTTONDOWN:\n",
    "            self.minPointsLeft -= 1\n",
    "            self.selectionPts.append((x, y))\n",
    "            cv2.circle(self.frame, (x,y), 2, (255,255,255), thickness=1)\n",
    "            cv2.imshow(self.title, self.frame)\n",
    "\n",
    "class CalibWindow(SelectionWindow):\n",
    "\n",
    "    def __init__(self, title, frame):\n",
    "        super().__init__(title, frame)\n",
    "        self.calibPoints = []\n",
    "        self.minPointsLeft = 2\n",
    "        self.func = self.set_calib_length\n",
    "\n",
    "    def set_calib_length(self,event,x,y,flags,param):\n",
    "        if event == cv2.EVENT_LBUTTONDOWN or event == cv2.EVENT_RBUTTONDOWN:\n",
    "            self.minPointsLeft -= 1\n",
    "            self.calibPoints.append((x, y))\n",
    "            cv2.circle(self.frame, (x,y), 2, (255,255,255), thickness=1)\n",
    "            cv2.imshow(self.title, self.frame)\n",
    "    \n",
    "    def getCalibScale(self, calibLength):\n",
    "        p1 = self.calibPoints[-1]\n",
    "        p2 = self.calibPoints[-2]\n",
    "        return ((p1[0]-p2[0])**2+(p1[1]-p2[1])**2)**0.5/calibLength"
   ]
  },
  {
   "attachments": {},
   "cell_type": "markdown",
   "metadata": {},
   "source": [
    "# Crop Video"
   ]
  },
  {
   "cell_type": "code",
   "execution_count": 3,
   "metadata": {},
   "outputs": [],
   "source": [
    "vidPath = \"ball1.MP4\"\n",
    "crop_roi = getROIFromVideo(vidPath)\n",
    "cv2.destroyAllWindows()"
   ]
  },
  {
   "attachments": {},
   "cell_type": "markdown",
   "metadata": {},
   "source": [
    "# Perspective"
   ]
  },
  {
   "cell_type": "code",
   "execution_count": 5,
   "metadata": {},
   "outputs": [],
   "source": [
    "vidPath = \"ball1.MP4\"\n",
    "vs = cv2.VideoCapture(vidPath)\n",
    "ret, frame = vs.read()\n",
    "frame = cropWithROI(frame, crop_roi)\n",
    "\n",
    "perspectiveWindow = SelectionWindow(\"Perspective\", frame)\n",
    "perspectiveWindow.displayWindow()"
   ]
  },
  {
   "cell_type": "code",
   "execution_count": 6,
   "metadata": {},
   "outputs": [
    {
     "data": {
      "text/plain": [
       "[(22, 13), (225, 15), (245, 671), (8, 675)]"
      ]
     },
     "execution_count": 6,
     "metadata": {},
     "output_type": "execute_result"
    }
   ],
   "source": [
    "perspectiveWindow.selectionPts"
   ]
  },
  {
   "cell_type": "code",
   "execution_count": 7,
   "metadata": {},
   "outputs": [],
   "source": [
    "objLength = 1.83\n",
    "objWidth = 0.6\n",
    "imgWidth = 200\n",
    "imgHeight = round(objLength/objWidth*imgWidth)\n",
    "\n",
    "srcPts = np.float32(perspectiveWindow.selectionPts)\n",
    "dstPts = np.float32([(0, 0), (imgWidth, 0), (imgWidth, imgHeight), (0, imgHeight)])\n",
    "M = cv2.getPerspectiveTransform(srcPts, dstPts)\n",
    "dst = cv2.warpPerspective(frame, M, (imgWidth,imgHeight))\n",
    "cv2.imshow(\"Transformed\", dst)\n",
    "cv2.waitKey(0)\n",
    "cv2.destroyAllWindows()"
   ]
  },
  {
   "cell_type": "code",
   "execution_count": 8,
   "metadata": {},
   "outputs": [
    {
     "data": {
      "text/plain": [
       "<matplotlib.image.AxesImage at 0x27ebf7d7fd0>"
      ]
     },
     "execution_count": 8,
     "metadata": {},
     "output_type": "execute_result"
    },
    {
     "data": {
      "image/png": "[encoded data removed]",
      "text/plain": [
       "<Figure size 640x480 with 1 Axes>"
      ]
     },
     "metadata": {},
     "output_type": "display_data"
    }
   ],
   "source": [
    "plt.imshow(cv2.cvtColor(dst, cv2.COLOR_BGR2RGB))"
   ]
  },
  {
   "attachments": {},
   "cell_type": "markdown",
   "metadata": {},
   "source": [
    "# Get Template(s)"
   ]
  },
  {
   "cell_type": "code",
   "execution_count": 9,
   "metadata": {},
   "outputs": [],
   "source": [
    "pipeline = lambda frame: cv2.warpPerspective(cropWithROI(frame, crop_roi), M, (imgWidth, imgHeight))\n",
    "templates = getTemplatesFromVideo(vidPath, pipeline, templateWidth=10, templateHeight=10)"
   ]
  },
  {
   "attachments": {},
   "cell_type": "markdown",
   "metadata": {},
   "source": [
    "## Save Template(s)"
   ]
  },
  {
   "cell_type": "code",
   "execution_count": 10,
   "metadata": {},
   "outputs": [],
   "source": [
    "templatesDir = Path(\"templates_ball\")\n",
    "imgPaths = natsorted([str(path) for path in templatesDir.glob(\"*.jpg\")])\n",
    "\n",
    "if imgPaths:\n",
    "    latestImgN = int(Path(imgPaths[-1]).stem)+1\n",
    "else:\n",
    "    latestImgN = 0\n",
    "    \n",
    "for i in range(len(templates)):\n",
    "    cv2.imwrite(str(templatesDir/f\"{latestImgN+i}.jpg\"), templates[i])\n",
    "\n",
    "templates.clear()\n"
   ]
  },
  {
   "attachments": {},
   "cell_type": "markdown",
   "metadata": {},
   "source": [
    "## Load Template(s)"
   ]
  },
  {
   "cell_type": "code",
   "execution_count": 11,
   "metadata": {},
   "outputs": [],
   "source": [
    "templatesDir = Path(\"templates_ball\")\n",
    "imgPaths = templatesDir.glob(\"*.jpg\")\n",
    "\n",
    "templates = []\n",
    "for imgPath in imgPaths:\n",
    "    template = cv2.imread(str(imgPath))\n",
    "    templates.append(template)\n",
    "    cv2.imshow(\"Template\", template)\n",
    "    cv2.waitKey(0)\n",
    "\n",
    "cv2.waitKey(0)\n",
    "cv2.destroyAllWindows()"
   ]
  },
  {
   "cell_type": "code",
   "execution_count": 12,
   "metadata": {},
   "outputs": [],
   "source": [
    "def getTemplateMatches(frame, template, confidenceThresh):\n",
    "    res = cv2.matchTemplate(frame, template, cv2.TM_CCOEFF_NORMED)\n",
    "    loc = np.where(res >= confidenceThresh)\n",
    "\n",
    "    confidences = res[loc]\n",
    "\n",
    "    boxes = []\n",
    "    w, h = template.shape[-2::-1]\n",
    "    for pt in zip(*loc[::-1]):\n",
    "        boxes.append([*pt, pt[0] + w, pt[1] + h])\n",
    "\n",
    "    return boxes, confidences\n",
    "\n",
    "def getOutputVidFrameSize(vidPath, pipeline, outputHeight):\n",
    "    cap = cv2.VideoCapture(vidPath)\n",
    "    _, frame = cap.read()\n",
    "    frame = pipeline(frame)\n",
    "    frame = imutils.resize(frame, height=outputHeight)\n",
    "    return frame.shape[-2::-1]"
   ]
  },
  {
   "cell_type": "code",
   "execution_count": 13,
   "metadata": {},
   "outputs": [
    {
     "name": "stdout",
     "output_type": "stream",
     "text": [
      "Output frame width: 262, frame height: 800\n",
      "Frame 100 out of 251.\n",
      "\tTime taken: 2s. Est. time left: 3s\n",
      "Frame 200 out of 251.\n",
      "\tTime taken: 4s. Est. time left: 1s\n"
     ]
    }
   ],
   "source": [
    "VID_PATH = \"ball1.MP4\"\n",
    "OUTPUT_VID_PATH = \"output.MP4\"\n",
    "OUTPUT_HEIGHT = 800\n",
    "\n",
    "NMS_THRESHOLD = 0.7\n",
    "CONFIDENCE_THRESHOLD = 0.8\n",
    "\n",
    "IMSHOW_FLAG = True\n",
    "WRITE_FLAG = True\n",
    "\n",
    "num_cpu = multiprocessing.cpu_count() - 1\n",
    "pool = multiprocessing.pool.ThreadPool(processes=num_cpu)\n",
    "\n",
    "cap = cv2.VideoCapture(VID_PATH)\n",
    "\n",
    "totalFrames = cap.get(cv2.CAP_PROP_FRAME_COUNT)\n",
    "frameCount = 0\n",
    "startTime = time.time()\n",
    "\n",
    "frameWidth, frameHeight = getOutputVidFrameSize(VID_PATH, pipeline, OUTPUT_HEIGHT)\n",
    "out = cv2.VideoWriter(OUTPUT_VID_PATH, cv2.VideoWriter_fourcc(*\"mp4v\"), cap.get(cv2.CAP_PROP_FPS), (frameWidth,frameHeight))\n",
    "print(f\"Output frame width: {frameWidth}, frame height: {frameHeight}\")\n",
    "\n",
    "saveFrames = []\n",
    "saveBoxes = []\n",
    "\n",
    "pipeline = lambda frame: cv2.warpPerspective(cropWithROI(frame, crop_roi), M, (imgWidth, imgHeight))\n",
    "\n",
    "ret, frame = cap.read()\n",
    "while ret: \n",
    "    if frameCount % 100 == 0 and frameCount != 0:\n",
    "        elapsedTime = time.time()-startTime\n",
    "        estTimeLeft = (totalFrames-frameCount)/frameCount*elapsedTime\n",
    "        print(f\"Frame {frameCount} out of {round(totalFrames)}.\")\n",
    "        print(f\"\\tTime taken: {round(elapsedTime)}s. Est. time left: {round(estTimeLeft)}s\")\n",
    "\n",
    "    img_rgb = pipeline(frame)\n",
    "\n",
    "    # Multithreading\n",
    "    mapIterable = []\n",
    "    for i in range(len(templates)):\n",
    "        template = templates[i]\n",
    "        mapIterable.append((img_rgb, template, CONFIDENCE_THRESHOLD))\n",
    "    results = pool.starmap(func=getTemplateMatches, iterable=mapIterable)\n",
    "\n",
    "    boxes, confidences = [], []\n",
    "    for result in results:\n",
    "        boxes.extend(result[0])\n",
    "        confidences.extend(result[1])\n",
    "\n",
    "    # Serial\n",
    "    # boxes, confidences = [], []\n",
    "    # for template in templates:\n",
    "    #     val = getTemplateMatches(img_rgb, template, CONFIDENCE_THRESHOLD)\n",
    "    #     boxes.extend(val[0])\n",
    "    #     confidences.extend(val[1])\n",
    "\n",
    "    indices = cv2.dnn.NMSBoxes(boxes, confidences, CONFIDENCE_THRESHOLD, NMS_THRESHOLD)\n",
    "    boxes = [boxes[idx] for idx in indices]\n",
    "    confidences = [confidences[idx] for idx in indices]\n",
    "    \n",
    "    if boxes:\n",
    "        saveFrames.append(frameCount)\n",
    "        saveBoxes.append(boxes[0].copy())\n",
    "\n",
    "    for box in boxes:\n",
    "        cv2.rectangle(img_rgb, box[:2], box[2:], (0,0,255), 2)\n",
    "    \n",
    "    img_rgb = imutils.resize(img_rgb, height=OUTPUT_HEIGHT)\n",
    "\n",
    "    if WRITE_FLAG:\n",
    "        out.write(img_rgb)\n",
    "\n",
    "    if IMSHOW_FLAG:\n",
    "        cv2.imshow(\"Detections\", img_rgb)\n",
    "        key = cv2.waitKey(1)\n",
    "        if key == ord('q') or key == ord('Q'):\n",
    "            break\n",
    " \n",
    "    ret, frame = cap.read()\n",
    "    frameCount += 1\n",
    "\n",
    "cv2.destroyAllWindows()\n",
    "out.release()\n",
    "cap.release()"
   ]
  },
  {
   "cell_type": "code",
   "execution_count": 14,
   "metadata": {},
   "outputs": [],
   "source": [
    "# import pickle\n",
    "# f = open(\"temp.pkl\", \"wb\")\n",
    "# pickle.dump([saveFrames, saveBoxes], f)"
   ]
  },
  {
   "cell_type": "code",
   "execution_count": 15,
   "metadata": {},
   "outputs": [],
   "source": [
    "# import pickle\n",
    "# f = open(\"temp.pkl\", \"rb\")\n",
    "# pickle.load(f)"
   ]
  },
  {
   "attachments": {},
   "cell_type": "markdown",
   "metadata": {},
   "source": [
    "# Scale Calibration"
   ]
  },
  {
   "cell_type": "code",
   "execution_count": 16,
   "metadata": {},
   "outputs": [
    {
     "data": {
      "text/plain": [
       "333.33333333333337"
      ]
     },
     "execution_count": 16,
     "metadata": {},
     "output_type": "execute_result"
    }
   ],
   "source": [
    "cap = cv2.VideoCapture(VID_PATH)\n",
    "ret, frame = cap.read()\n",
    "\n",
    "img_rgb = pipeline(frame)\n",
    "\n",
    "# CalibWin = CalibWindow(\"Calibration\", img_rgb)\n",
    "# CalibWin.displayWindow()\n",
    "# calibPoints = CalibWin.calibPoints\n",
    "# calibLength = 0.60\n",
    "# scale = CalibWin.getCalibScale(calibLength)\n",
    "# key = cv2.waitKey(0)\n",
    "\n",
    "scale = img_rgb.shape[1]/objWidth\n",
    "scale"
   ]
  },
  {
   "cell_type": "code",
   "execution_count": 17,
   "metadata": {},
   "outputs": [
    {
     "data": {
      "text/plain": [
       "(610, 200, 3)"
      ]
     },
     "execution_count": 17,
     "metadata": {},
     "output_type": "execute_result"
    }
   ],
   "source": [
    "img_rgb.shape"
   ]
  },
  {
   "cell_type": "code",
   "execution_count": 19,
   "metadata": {},
   "outputs": [
    {
     "data": {
      "text/plain": [
       "<matplotlib.collections.PathCollection at 0x27ec3e163b0>"
      ]
     },
     "execution_count": 19,
     "metadata": {},
     "output_type": "execute_result"
    },
    {
     "data": {
      "image/png": "[encoded data removed]",
      "text/plain": [
       "<Figure size 640x480 with 1 Axes>"
      ]
     },
     "metadata": {},
     "output_type": "display_data"
    }
   ],
   "source": [
    "coords = np.array([[(b[0]+b[2])/2, (b[1]+b[3])/2] for b in saveBoxes])/scale\n",
    "plt.scatter(saveFrames[::1], coords[:,1][::1], s=1)"
   ]
  },
  {
   "cell_type": "code",
   "execution_count": 23,
   "metadata": {},
   "outputs": [
    {
     "data": {
      "text/plain": [
       "1.6589999999999998"
      ]
     },
     "execution_count": 23,
     "metadata": {},
     "output_type": "execute_result"
    }
   ],
   "source": [
    "coords[:,1].max() - coords[:,1].min()\n"
   ]
  },
  {
   "cell_type": "code",
   "execution_count": 20,
   "metadata": {},
   "outputs": [],
   "source": [
    "csvPath = Path(VID_PATH).stem + \".csv\"\n",
    "df = pd.DataFrame([saveFrames, coords[:,0], coords[:,1]]).T\n",
    "df.to_csv(csvPath, index=None, header=[\"frame\",\"x\",\"y\"])"
   ]
  },
  {
   "cell_type": "code",
   "execution_count": 21,
   "metadata": {},
   "outputs": [
    {
     "data": {
      "text/plain": [
       "30.0"
      ]
     },
     "execution_count": 21,
     "metadata": {},
     "output_type": "execute_result"
    }
   ],
   "source": [
    "cap = cv2.VideoCapture(VID_PATH)\n",
    "h = int(cap.get(cv2.CAP_PROP_FOURCC))\n",
    "codec = chr(h&0xff) + chr((h>>8)&0xff) + chr((h>>16)&0xff) + chr((h>>24)&0xff)\n",
    "codec\n",
    "\n",
    "cap.get(cv2.CAP_PROP_FPS)"
   ]
  },
  {
   "attachments": {},
   "cell_type": "markdown",
   "metadata": {},
   "source": [
    "Multithreading Time (1100 frames, 5 threads, 5 templates): 75s  \n",
    "Serial Time (1100 frames, 5 templates): 193s\n",
    "\n",
    "TODO: try with map_async"
   ]
  },
  {
   "attachments": {},
   "cell_type": "markdown",
   "metadata": {},
   "source": [
    "# Junk"
   ]
  },
  {
   "cell_type": "code",
   "execution_count": null,
   "metadata": {},
   "outputs": [],
   "source": [
    "cap = cv2.VideoCapture(\"video.mov\")\n",
    "ret, frame = cap.read()\n",
    "while ret:    \n",
    "    ret, frame = cap.read()\n",
    "\n",
    "    frame = frame[int(roi[1]):int(roi[1]+roi[3]), int(roi[0]):int(roi[0]+roi[2])]\n",
    "\n",
    "    cv2.imshow(\"RGB\", frame)\n",
    "\n",
    "    hsv = cv2.cvtColor(frame, cv2.COLOR_BGR2HSV)\n",
    "    cv2.imshow(\"HSV\", hsv)\n",
    "    h,s,v = cv2.split(hsv)\n",
    "\n",
    "    ret, th = cv2.threshold(v, 0, 255, cv2.THRESH_BINARY+cv2.THRESH_OTSU)\n",
    "\n",
    "    cv2.imshow(\"OTSU\", th)\n",
    "    cv2.imshow(\"V\", v)\n",
    "\n",
    "    rows = v.shape[0]\n",
    "    circles = cv2.HoughCircles(v, cv2.HOUGH_GRADIENT_ALT, 1, rows/128,\n",
    "                               param1=500, param2=0.8,\n",
    "                               minRadius=1, maxRadius=200)\n",
    "    \n",
    "    if circles is not None:\n",
    "        circles = np.uint16(np.around(circles))\n",
    "        for i in circles[0, :]:\n",
    "            center = (i[0], i[1])\n",
    "            # circle center\n",
    "            cv2.circle(frame, center, 1, (0, 100, 100), 1)\n",
    "            # circle outline\n",
    "            radius = i[2]\n",
    "            cv2.circle(frame, center, radius, (255, 0, 255), 1)\n",
    "    \n",
    "    cv2.imshow(\"detected circles\", frame)\n",
    "    key = cv2.waitKey(0)\n",
    "\n",
    "    if key == ord('q') or key == ord('Q'):\n",
    "        break\n",
    "\n",
    "cv2.destroyAllWindows()"
   ]
  },
  {
   "cell_type": "code",
   "execution_count": null,
   "metadata": {},
   "outputs": [],
   "source": [
    "# img_gray = cv2.cvtColor(img_rgb, cv2.COLOR_BGR2GRAY)\n",
    "# template_gray = cv2.cvtColor(template, cv2.COLOR_BGR2GRAY)\n",
    "# res = cv2.matchTemplate(img_gray, template_gray, cv2.TM_CCOEFF_NORMED)\n",
    "\n",
    "# img_hsv = cv2.cvtColor(img_rgb, cv2.COLOR_BGR2HSV)\n",
    "# template_hsv = cv2.cvtColor(template, cv2.COLOR_BGR2HSV)\n",
    "# _, _, img_v = cv2.split(img_hsv)\n",
    "# _, _, template_v = cv2.split(template_hsv)\n",
    "# res = cv2.matchTemplate(img_v, template_v, cv2.TM_CCOEFF_NORMED)"
   ]
  }
 ],
 "metadata": {
  "kernelspec": {
   "display_name": "py310",
   "language": "python",
   "name": "python3"
  },
  "language_info": {
   "codemirror_mode": {
    "name": "ipython",
    "version": 3
   },
   "file_extension": ".py",
   "mimetype": "text/x-python",
   "name": "python",
   "nbconvert_exporter": "python",
   "pygments_lexer": "ipython3",
   "version": "3.10.11"
  },
  "orig_nbformat": 4
 },
 "nbformat": 4,
 "nbformat_minor": 2
}
