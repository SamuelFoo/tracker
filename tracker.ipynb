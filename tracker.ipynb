{
 "cells": [
  {
   "cell_type": "code",
   "execution_count": 86,
   "metadata": {},
   "outputs": [],
   "source": [
    "import cv2\n",
    "import imutils\n",
    "import numpy as np\n",
    "from pathlib import Path\n",
    "from natsort import natsorted\n",
    "import time\n",
    "import multiprocessing"
   ]
  },
  {
   "attachments": {},
   "cell_type": "markdown",
   "metadata": {},
   "source": [
    "# Functions"
   ]
  },
  {
   "cell_type": "code",
   "execution_count": 3,
   "metadata": {},
   "outputs": [],
   "source": [
    "def resize(frame, maxHeight=500, maxWidth=1500):\n",
    "    # If resize factor for height is greater than that of width\n",
    "    if frame.shape[0]/maxHeight > frame.shape[1]/maxWidth:\n",
    "        resizedFrame = imutils.resize(frame.copy(), height=maxHeight)\n",
    "    else:\n",
    "        resizedFrame = imutils.resize(frame.copy(), width=maxWidth)\n",
    "    return resizedFrame, resizedFrame.shape[0]/frame.shape[0]\n",
    "\n",
    "def getROIFromVideo(vidPath):\n",
    "    vs = cv2.VideoCapture(vidPath)\n",
    "    \n",
    "    ret, frame = vs.read()\n",
    "\n",
    "    # while ret:\n",
    "    #     ret, frame = vs.read()\n",
    "    #     dispFrame, _ = resize(frame)\n",
    "    #     cv2.imshow(\"Video\", dispFrame)\n",
    "    #     key = cv2.waitKey(0)\n",
    "    #     if key == ord('q') or key == 27:\n",
    "    #         break\n",
    "\n",
    "    return getROIFromFrame(frame)\n",
    "\n",
    "def getROIFromFrame(frame):\n",
    "    frame, scale = resize(frame)\n",
    "    r = cv2.selectROI(frame, fromCenter=True)\n",
    "    cv2.destroyAllWindows()\n",
    "\n",
    "    # If ROI invalid, return whole image\n",
    "    if len(np.unique(r)) < 4:\n",
    "        r = np.zeros(4).astype(\"int\")\n",
    "        r[3] = len(frame)\n",
    "        r[2] = len(frame[0])\n",
    "    \n",
    "    return np.round(np.array(r)/scale).astype(\"int\")\n",
    "\n",
    "def cropWithROI(frame, roi):\n",
    "    return frame[int(roi[1]):int(roi[1]+roi[3]), int(roi[0]):int(roi[0]+roi[2])]\n",
    "\n",
    "def getTemplatesFromVideo(vidPath, cropROI, templateWidth, templateHeight):\n",
    "    box = None\n",
    "    templates = []\n",
    "\n",
    "    def on_mouse(event, x, y, flags, userdata):\n",
    "        nonlocal box\n",
    "        # Draw box\n",
    "        if event == cv2.EVENT_LBUTTONDOWN:\n",
    "            p = (x,y)\n",
    "            p1 = (int(p[0]-templateWidth/2), int(p[1]-templateHeight/2))\n",
    "            p2 = (int(p[0]+templateWidth/2), int(p[1]+templateHeight/2))\n",
    "            box = [p1[0], p1[1], templateWidth, templateHeight]\n",
    "\n",
    "            frameDraw = frame.copy()\n",
    "            cv2.rectangle(frameDraw, p1, p2, (255, 0, 0), 3)\n",
    "            cv2.imshow('Frame', frameDraw)\n",
    "\n",
    "    cap = cv2.VideoCapture(vidPath)\n",
    "    cv2.namedWindow('Frame', cv2.WINDOW_NORMAL)\n",
    "    cv2.setMouseCallback('Frame', on_mouse)\n",
    "\n",
    "    while cap.isOpened():\n",
    "        _, frame = cap.read()\n",
    "        frame = cropWithROI(frame, cropROI)\n",
    "        \n",
    "        cv2.imshow(\"Frame\", frame)\n",
    "        key = cv2.waitKey(0)\n",
    "        if key == ord(\"q\") or key == ord(\"Q\"):\n",
    "            cap.release()\n",
    "            cv2.destroyAllWindows()\n",
    "\n",
    "        if key == ord(\"e\") or key == ord(\"E\"):\n",
    "            if box is not None:\n",
    "                templates.append(cropWithROI(frame, box))\n",
    "\n",
    "    return templates"
   ]
  },
  {
   "attachments": {},
   "cell_type": "markdown",
   "metadata": {},
   "source": [
    "# Crop Video"
   ]
  },
  {
   "cell_type": "code",
   "execution_count": 4,
   "metadata": {},
   "outputs": [
    {
     "name": "stdout",
     "output_type": "stream",
     "text": [
      "Select a ROI and then press SPACE or ENTER button!\n",
      "Cancel the selection process by pressing c button!\n"
     ]
    }
   ],
   "source": [
    "crop_roi = getROIFromVideo(\"video.mov\")\n",
    "cv2.destroyAllWindows()"
   ]
  },
  {
   "attachments": {},
   "cell_type": "markdown",
   "metadata": {},
   "source": [
    "# Get Template(s)"
   ]
  },
  {
   "cell_type": "code",
   "execution_count": 103,
   "metadata": {},
   "outputs": [],
   "source": [
    "templates = getTemplatesFromVideo(\"video.mov\", crop_roi, templateWidth=90, templateHeight=90)"
   ]
  },
  {
   "attachments": {},
   "cell_type": "markdown",
   "metadata": {},
   "source": [
    "## Save Template(s)"
   ]
  },
  {
   "cell_type": "code",
   "execution_count": 104,
   "metadata": {},
   "outputs": [],
   "source": [
    "templatesDir = Path(\"templates\")\n",
    "imgPaths = natsorted([str(path) for path in templatesDir.glob(\"*.jpg\")])\n",
    "\n",
    "if imgPaths:\n",
    "    latestImgN = int(Path(imgPaths[-1]).stem)+1\n",
    "else:\n",
    "    latestImgN = 0\n",
    "    \n",
    "for i in range(len(templates)):\n",
    "    cv2.imwrite(str(templatesDir/f\"{latestImgN+i}.jpg\"), templates[i])\n",
    "\n",
    "templates.clear()\n"
   ]
  },
  {
   "attachments": {},
   "cell_type": "markdown",
   "metadata": {},
   "source": [
    "## Load Template(s)"
   ]
  },
  {
   "cell_type": "code",
   "execution_count": 105,
   "metadata": {},
   "outputs": [],
   "source": [
    "templatesDir = Path(\"templates\")\n",
    "imgPaths = templatesDir.glob(\"*.jpg\")\n",
    "\n",
    "templates = []\n",
    "for imgPath in imgPaths:\n",
    "    template = cv2.imread(str(imgPath))\n",
    "    templates.append(template)\n",
    "    cv2.imshow(\"Template\", template)\n",
    "    cv2.waitKey(0)\n",
    "\n",
    "cv2.waitKey(0)\n",
    "cv2.destroyAllWindows()"
   ]
  },
  {
   "cell_type": "code",
   "execution_count": 106,
   "metadata": {},
   "outputs": [],
   "source": [
    "def getTemplateMatches(frame, template, confidenceThresh):\n",
    "    res = cv2.matchTemplate(frame, template, cv2.TM_CCOEFF_NORMED)\n",
    "    loc = np.where(res >= confidenceThresh)\n",
    "\n",
    "    confidences = res[loc]\n",
    "\n",
    "    boxes = []\n",
    "    w, h = template.shape[-2::-1]\n",
    "    for pt in zip(*loc[::-1]):\n",
    "        boxes.append([*pt, pt[0] + w, pt[1] + h])\n",
    "\n",
    "    return boxes, confidences\n",
    "\n",
    "def getOutputVidFrameSize(vidPath, cropROI, outputHeight):\n",
    "    cap = cv2.VideoCapture(vidPath)\n",
    "    _, frame = cap.read()\n",
    "    frame = cropWithROI(frame, cropROI)\n",
    "    frame = imutils.resize(frame, height=outputHeight)\n",
    "    return frame.shape[-2::-1]"
   ]
  },
  {
   "cell_type": "code",
   "execution_count": 107,
   "metadata": {},
   "outputs": [
    {
     "name": "stdout",
     "output_type": "stream",
     "text": [
      "Output frame width: 786, frame height: 800\n",
      "Frame 100 out of 1177.\n",
      "\tTime taken: 8s. Est. time left: 88s\n",
      "Frame 200 out of 1177.\n",
      "\tTime taken: 16s. Est. time left: 78s\n",
      "Frame 300 out of 1177.\n",
      "\tTime taken: 24s. Est. time left: 71s\n",
      "Frame 400 out of 1177.\n",
      "\tTime taken: 34s. Est. time left: 65s\n",
      "Frame 500 out of 1177.\n",
      "\tTime taken: 43s. Est. time left: 58s\n",
      "Frame 600 out of 1177.\n",
      "\tTime taken: 53s. Est. time left: 51s\n",
      "Frame 700 out of 1177.\n",
      "\tTime taken: 62s. Est. time left: 42s\n",
      "Frame 800 out of 1177.\n",
      "\tTime taken: 72s. Est. time left: 34s\n",
      "Frame 900 out of 1177.\n",
      "\tTime taken: 82s. Est. time left: 25s\n",
      "Frame 1000 out of 1177.\n",
      "\tTime taken: 91s. Est. time left: 16s\n",
      "Frame 1100 out of 1177.\n",
      "\tTime taken: 101s. Est. time left: 7s\n"
     ]
    }
   ],
   "source": [
    "VID_PATH = \"video.mov\"\n",
    "OUTPUT_VID_PATH = \"output.MP4\"\n",
    "OUTPUT_HEIGHT = 800\n",
    "\n",
    "NMS_THRESHOLD = 0.7\n",
    "CONFIDENCE_THRESHOLD = 0.8\n",
    "\n",
    "IMSHOW_FLAG = False\n",
    "WRITE_FLAG = True\n",
    "\n",
    "num_cpu = multiprocessing.cpu_count() - 1\n",
    "pool = multiprocessing.pool.ThreadPool(processes=num_cpu)\n",
    "\n",
    "cap = cv2.VideoCapture(VID_PATH)\n",
    "\n",
    "totalFrames = cap.get(cv2.CAP_PROP_FRAME_COUNT)\n",
    "frameCount = 0\n",
    "startTime = time.time()\n",
    "\n",
    "frameWidth, frameHeight = getOutputVidFrameSize(VID_PATH, crop_roi, OUTPUT_HEIGHT)\n",
    "out = cv2.VideoWriter(OUTPUT_VID_PATH, cv2.VideoWriter_fourcc(*\"mp4v\"), cap.get(cv2.CAP_PROP_FPS), (frameWidth,frameHeight))\n",
    "print(f\"Output frame width: {frameWidth}, frame height: {frameHeight}\")\n",
    "\n",
    "ret, frame = cap.read()\n",
    "while ret: \n",
    "    if frameCount % 100 == 0 and frameCount != 0:\n",
    "        elapsedTime = time.time()-startTime\n",
    "        estTimeLeft = (totalFrames-frameCount)/frameCount*elapsedTime\n",
    "        print(f\"Frame {frameCount} out of {round(totalFrames)}.\")\n",
    "        print(f\"\\tTime taken: {round(elapsedTime)}s. Est. time left: {round(estTimeLeft)}s\")\n",
    "\n",
    "    img_rgb = cropWithROI(frame, crop_roi)\n",
    "\n",
    "    # Multithreading\n",
    "    mapIterable = []\n",
    "    for i in range(len(templates)):\n",
    "        template = templates[i]\n",
    "        mapIterable.append((img_rgb, template, CONFIDENCE_THRESHOLD))\n",
    "    results = pool.starmap(func=getTemplateMatches, iterable=mapIterable)\n",
    "\n",
    "    boxes, confidences = [], []\n",
    "    for result in results:\n",
    "        boxes.extend(result[0])\n",
    "        confidences.extend(result[1])\n",
    "\n",
    "    # Serial\n",
    "    # boxes, confidences = [], []\n",
    "    # for template in templates:\n",
    "    #     val = getTemplateMatches(img_rgb, template, CONFIDENCE_THRESHOLD)\n",
    "    #     boxes.extend(val[0])\n",
    "    #     confidences.extend(val[1])\n",
    "\n",
    "    indices = cv2.dnn.NMSBoxes(boxes, confidences, CONFIDENCE_THRESHOLD, NMS_THRESHOLD)\n",
    "    boxes = [boxes[idx] for idx in indices]\n",
    "    confidences = [confidences[idx] for idx in indices]\n",
    "    \n",
    "    for box in boxes:\n",
    "        cv2.rectangle(img_rgb, box[:2], box[2:], (0,0,255), 2)\n",
    "    \n",
    "    img_rgb = imutils.resize(img_rgb, height=OUTPUT_HEIGHT)\n",
    "\n",
    "    if WRITE_FLAG:\n",
    "        out.write(img_rgb)\n",
    "\n",
    "    if IMSHOW_FLAG:\n",
    "        cv2.imshow(\"Detections\", img_rgb)\n",
    "        key = cv2.waitKey(1)\n",
    "        if key == ord('q') or key == ord('Q'):\n",
    "            break\n",
    " \n",
    "    ret, frame = cap.read()\n",
    "    frameCount += 1\n",
    "\n",
    "cv2.destroyAllWindows()\n",
    "out.release()\n",
    "cap.release()"
   ]
  },
  {
   "cell_type": "code",
   "execution_count": 41,
   "metadata": {},
   "outputs": [
    {
     "data": {
      "text/plain": [
       "24.0"
      ]
     },
     "execution_count": 41,
     "metadata": {},
     "output_type": "execute_result"
    }
   ],
   "source": [
    "cap = cv2.VideoCapture(\"video.mov\")\n",
    "h = int(cap.get(cv2.CAP_PROP_FOURCC))\n",
    "codec = chr(h&0xff) + chr((h>>8)&0xff) + chr((h>>16)&0xff) + chr((h>>24)&0xff)\n",
    "codec\n",
    "\n",
    "cap.get(cv2.CAP_PROP_FPS)"
   ]
  },
  {
   "attachments": {},
   "cell_type": "markdown",
   "metadata": {},
   "source": [
    "Multithreading Time (1100 frames, 5 threads, 5 templates): 75s  \n",
    "Serial Time (1100 frames, 5 templates): 193s\n",
    "\n",
    "TODO: try with map_async"
   ]
  },
  {
   "attachments": {},
   "cell_type": "markdown",
   "metadata": {},
   "source": [
    "# Junk"
   ]
  },
  {
   "cell_type": "code",
   "execution_count": null,
   "metadata": {},
   "outputs": [],
   "source": [
    "cap = cv2.VideoCapture(\"video.mov\")\n",
    "ret, frame = cap.read()\n",
    "while ret:    \n",
    "    ret, frame = cap.read()\n",
    "\n",
    "    frame = frame[int(roi[1]):int(roi[1]+roi[3]), int(roi[0]):int(roi[0]+roi[2])]\n",
    "\n",
    "    cv2.imshow(\"RGB\", frame)\n",
    "\n",
    "    hsv = cv2.cvtColor(frame, cv2.COLOR_BGR2HSV)\n",
    "    cv2.imshow(\"HSV\", hsv)\n",
    "    h,s,v = cv2.split(hsv)\n",
    "\n",
    "    ret, th = cv2.threshold(v, 0, 255, cv2.THRESH_BINARY+cv2.THRESH_OTSU)\n",
    "\n",
    "    cv2.imshow(\"OTSU\", th)\n",
    "    cv2.imshow(\"V\", v)\n",
    "\n",
    "    rows = v.shape[0]\n",
    "    circles = cv2.HoughCircles(v, cv2.HOUGH_GRADIENT_ALT, 1, rows/128,\n",
    "                               param1=500, param2=0.8,\n",
    "                               minRadius=1, maxRadius=200)\n",
    "    \n",
    "    if circles is not None:\n",
    "        circles = np.uint16(np.around(circles))\n",
    "        for i in circles[0, :]:\n",
    "            center = (i[0], i[1])\n",
    "            # circle center\n",
    "            cv2.circle(frame, center, 1, (0, 100, 100), 1)\n",
    "            # circle outline\n",
    "            radius = i[2]\n",
    "            cv2.circle(frame, center, radius, (255, 0, 255), 1)\n",
    "    \n",
    "    cv2.imshow(\"detected circles\", frame)\n",
    "    key = cv2.waitKey(0)\n",
    "\n",
    "    if key == ord('q') or key == ord('Q'):\n",
    "        break\n",
    "\n",
    "cv2.destroyAllWindows()"
   ]
  },
  {
   "cell_type": "code",
   "execution_count": null,
   "metadata": {},
   "outputs": [],
   "source": [
    "# img_gray = cv2.cvtColor(img_rgb, cv2.COLOR_BGR2GRAY)\n",
    "# template_gray = cv2.cvtColor(template, cv2.COLOR_BGR2GRAY)\n",
    "# res = cv2.matchTemplate(img_gray, template_gray, cv2.TM_CCOEFF_NORMED)\n",
    "\n",
    "# img_hsv = cv2.cvtColor(img_rgb, cv2.COLOR_BGR2HSV)\n",
    "# template_hsv = cv2.cvtColor(template, cv2.COLOR_BGR2HSV)\n",
    "# _, _, img_v = cv2.split(img_hsv)\n",
    "# _, _, template_v = cv2.split(template_hsv)\n",
    "# res = cv2.matchTemplate(img_v, template_v, cv2.TM_CCOEFF_NORMED)"
   ]
  }
 ],
 "metadata": {
  "kernelspec": {
   "display_name": "py310",
   "language": "python",
   "name": "python3"
  },
  "language_info": {
   "codemirror_mode": {
    "name": "ipython",
    "version": 3
   },
   "file_extension": ".py",
   "mimetype": "text/x-python",
   "name": "python",
   "nbconvert_exporter": "python",
   "pygments_lexer": "ipython3",
   "version": "3.10.10"
  },
  "orig_nbformat": 4
 },
 "nbformat": 4,
 "nbformat_minor": 2
}
