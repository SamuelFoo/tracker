{
 "cells": [
  {
   "cell_type": "code",
   "execution_count": 20,
   "metadata": {},
   "outputs": [],
   "source": [
    "import cv2\n",
    "import imutils\n",
    "import numpy as np"
   ]
  },
  {
   "cell_type": "code",
   "execution_count": 61,
   "metadata": {},
   "outputs": [],
   "source": [
    "im = cv2.imread(\"DSC09897.JPG\")\n",
    "\n",
    "gray = cv2.cvtColor(im, cv2.COLOR_BGR2GRAY)\n",
    "blurred = cv2.GaussianBlur(gray, (7, 7), 0)\n",
    "\n",
    "(T, threshInv) = cv2.threshold(blurred, 0, 255, cv2.THRESH_BINARY_INV | cv2.THRESH_OTSU)\n",
    "contours, _ = cv2.findContours(threshInv, cv2.RETR_TREE, cv2.CHAIN_APPROX_SIMPLE)\n",
    "cnt = max(contours, key=cv2.contourArea)\n",
    "\n",
    "xs = np.array([pt[0][0] for pt in cnt])\n",
    "xRange = max(xs) - min(xs)\n",
    "mask = (xs < min(xs)+xRange*0.4) | (xs > min(xs)+xRange*0.6)\n",
    "cnt = cnt[mask]\n",
    "cv2.drawContours(im, [cnt], -1, (0,255,0), 1)\n",
    "\n",
    "ellipse = cv2.fitEllipse(cnt)\n",
    "cv2.ellipse(im, ellipse, (0,0,255), 10)\n",
    "cv2.drawContours(im, [cnt], -1, (255,0,0), 10)\n",
    "\n",
    "cv2.imwrite(\"ellipse.jpg\", im)\n",
    "\n",
    "im = imutils.resize(im, width=600)\n",
    "cv2.imshow(\"Ellipse\", im)\n",
    "cv2.waitKey(0)\n",
    "cv2.destroyAllWindows()"
   ]
  }
 ],
 "metadata": {
  "kernelspec": {
   "display_name": "dso",
   "language": "python",
   "name": "python3"
  },
  "language_info": {
   "codemirror_mode": {
    "name": "ipython",
    "version": 3
   },
   "file_extension": ".py",
   "mimetype": "text/x-python",
   "name": "python",
   "nbconvert_exporter": "python",
   "pygments_lexer": "ipython3",
   "version": "3.11.3"
  },
  "orig_nbformat": 4
 },
 "nbformat": 4,
 "nbformat_minor": 2
}
