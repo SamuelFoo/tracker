{
 "cells": [
  {
   "cell_type": "code",
   "execution_count": null,
   "metadata": {},
   "outputs": [],
   "source": [
    "%reload_ext autoreload\n",
    "%autoreload 2\n",
    "\n",
    "import matplotlib.pyplot as plt\n",
    "import numpy as np\n",
    "\n",
    "from scipy.fft import fft, fftfreq\n",
    "\n",
    "import networkx as nx\n",
    "import cv2\n",
    "\n",
    "from main import CircleCalibWindow, EllipseCalibWindow, resize, showImg\n",
    "\n",
    "from skimage import (\n",
    "    color, feature, filters, measure, morphology, segmentation, util\n",
    ")"
   ]
  },
  {
   "cell_type": "markdown",
   "metadata": {},
   "source": [
    "# Process Image"
   ]
  },
  {
   "cell_type": "code",
   "execution_count": null,
   "metadata": {},
   "outputs": [],
   "source": [
    "img = cv2.imread(\"slime_mould/HELP1_10_w_v/271023_1053/KCL_20231027_110612.jpg\")"
   ]
  },
  {
   "cell_type": "markdown",
   "metadata": {},
   "source": [
    "## Crop and Perspective Transform"
   ]
  },
  {
   "cell_type": "code",
   "execution_count": null,
   "metadata": {},
   "outputs": [],
   "source": [
    "calibWin = EllipseCalibWindow(\"Ellipse Calibration\", resize(im))\n",
    "calibWin.displayWindow()"
   ]
  },
  {
   "cell_type": "code",
   "execution_count": null,
   "metadata": {},
   "outputs": [],
   "source": [
    "centerX, centerY, radius = CircleCalibWindow.getCircle()"
   ]
  },
  {
   "cell_type": "markdown",
   "metadata": {},
   "source": [
    "## Threshold"
   ]
  },
  {
   "cell_type": "code",
   "execution_count": null,
   "metadata": {},
   "outputs": [],
   "source": [
    "hsv = cv2.cvtColor(img, cv2.COLOR_BGR2HSV)\n",
    "h,s,v = cv2.split(hsv)\n",
    "showImg(resize(h)[0])"
   ]
  },
  {
   "cell_type": "code",
   "execution_count": null,
   "metadata": {},
   "outputs": [],
   "source": [
    "showImg(resize(img)[0])\n",
    "\n",
    "gray = cv2.cvtColor(img, cv2.COLOR_BGR2GRAY)\n",
    "iterations = 2\n",
    "clahe = cv2.createCLAHE(clipLimit=1.2, tileGridSize=(12,12))\n",
    "kernel = cv2.getStructuringElement(cv2.MORPH_RECT, (15, 15))\n",
    "tophat1 = gray.copy()\n",
    "for i in range(iterations):\n",
    "    cl1 = clahe.apply(tophat1)\n",
    "    tophat1 = cv2.morphologyEx(cl1, cv2.MORPH_TOPHAT, cl1)"
   ]
  },
  {
   "cell_type": "code",
   "execution_count": null,
   "metadata": {},
   "outputs": [],
   "source": [
    "thresholds = filters.threshold_multiotsu(s, classes=3)\n",
    "regions = np.digitize(s, bins=thresholds)\n",
    "\n",
    "fig, ax = plt.subplots(ncols=2, figsize=(10, 5))\n",
    "ax[0].imshow(s)\n",
    "ax[0].set_title('Original')\n",
    "ax[0].axis('off')\n",
    "ax[1].imshow(regions)\n",
    "ax[1].set_title('Multi-Otsu thresholding')\n",
    "ax[1].axis('off')\n",
    "plt.show()\n"
   ]
  },
  {
   "cell_type": "code",
   "execution_count": null,
   "metadata": {},
   "outputs": [],
   "source": [
    "showImg(tophat1)"
   ]
  },
  {
   "cell_type": "markdown",
   "metadata": {},
   "source": [
    "# Network"
   ]
  },
  {
   "cell_type": "code",
   "execution_count": null,
   "metadata": {},
   "outputs": [],
   "source": [
    "G = nx.Graph([(0, 1), (1, 2), (5, 6), (3, 4)])\n",
    "nx.node_connected_component(G, 0)"
   ]
  },
  {
   "cell_type": "code",
   "execution_count": null,
   "metadata": {},
   "outputs": [],
   "source": [
    "import networkx as nx\n",
    "import numpy as np\n",
    "\n",
    "def skeleton_image_to_graph(skeIm, connectivity=2):\n",
    "    assert(len(skeIm.shape) == 2)\n",
    "    skeImPos = np.stack(np.where(skeIm))\n",
    "    skeImPosIm = np.zeros_like(skeIm, dtype=np.int)\n",
    "    skeImPosIm[skeImPos[0], skeImPos[1]] = np.arange(0, skeImPos.shape[1])\n",
    "    g = nx.Graph()\n",
    "    if connectivity == 1:\n",
    "        neigh = np.array([[0, 1], [0, -1], [1, 0], [-1, 0]])\n",
    "    elif connectivity == 2:\n",
    "        neigh = np.array([[0, 1], [0, -1], [1, 0], [-1, 0], [1, 1], [1, -1], [-1, 1], [-1, -1]])\n",
    "    else:\n",
    "        raise ValueError(f'unsupported connectivity {connectivity}')\n",
    "    for idx in range(skeImPos[0].shape[0]):\n",
    "        for neighIdx in range(neigh.shape[0]):\n",
    "            curNeighPos = skeImPos[:, idx] + neigh[neighIdx]\n",
    "            if np.any(curNeighPos<0) or np.any(curNeighPos>=skeIm.shape):\n",
    "                continue\n",
    "            if skeIm[curNeighPos[0], curNeighPos[1]] > 0:\n",
    "                g.add_edge(skeImPosIm[skeImPos[0, idx], skeImPos[1, idx]], skeImPosIm[curNeighPos[0], curNeighPos[1]], weight=np.linalg.norm(neigh[neighIdx]))\n",
    "    g.graph['physicalPos'] = skeImPos.T\n",
    "    return g\n"
   ]
  },
  {
   "cell_type": "markdown",
   "metadata": {},
   "source": [
    "# Animations"
   ]
  },
  {
   "cell_type": "markdown",
   "metadata": {},
   "source": [
    "## FFT"
   ]
  },
  {
   "cell_type": "code",
   "execution_count": null,
   "metadata": {},
   "outputs": [],
   "source": [
    "def plotFFT(mode):\n",
    "    amplitude = 0.2\n",
    "    radius = 1\n",
    "    N = 10000\n",
    "\n",
    "    theta = np.linspace(0, 2*np.pi, N)\n",
    "    r = radius + amplitude*np.sin(mode*theta)\n",
    "    plt.plot(theta, r)\n",
    "    plt.show()\n",
    "\n",
    "    x = r*np.cos(theta)\n",
    "    y = r*np.sin(theta)\n",
    "    plt.plot(x, y)\n",
    "    plt.gca().set_aspect('equal')\n",
    "    plt.show()\n",
    "\n",
    "    nRepeats = 20\n",
    "    thetaRepeat = np.linspace(0, nRepeats*2*np.pi, N*nRepeats)\n",
    "    rRepeat = np.tile(r, nRepeats)\n",
    "    # plt.plot(thetaRepeat, rRepeat)\n",
    "    # plt.show()\n",
    "\n",
    "    yf = fft(rRepeat)\n",
    "    xf = fftfreq(N*nRepeats, np.diff(thetaRepeat)[0])[:N*nRepeats//2]\n",
    "    plt.plot(2*np.pi*xf[1:N*nRepeats//2], 2.0/N*nRepeats * np.abs(yf[1:N*nRepeats//2]))\n",
    "    plt.xlim(2, 6)\n",
    "    plt.xticks([2, 3, 4, 5, 6])\n",
    "    plt.show()"
   ]
  },
  {
   "cell_type": "code",
   "execution_count": null,
   "metadata": {},
   "outputs": [],
   "source": [
    "plotFFT(3)"
   ]
  },
  {
   "cell_type": "code",
   "execution_count": null,
   "metadata": {},
   "outputs": [],
   "source": [
    "plotFFT(4)"
   ]
  },
  {
   "cell_type": "code",
   "execution_count": null,
   "metadata": {},
   "outputs": [],
   "source": [
    "amplitude = 0.2\n",
    "radius = 1\n",
    "mode = 4\n",
    "N = 10000\n",
    "\n",
    "theta = np.linspace(0, 2*np.pi, N)\n",
    "r = radius + amplitude*np.sin(mode*theta)\n",
    "plt.plot(theta, r)\n",
    "plt.show()\n",
    "\n",
    "x = r*np.cos(theta)\n",
    "y = r*np.sin(theta)\n",
    "plt.plot(x, y)\n",
    "plt.gca().set_aspect('equal')\n",
    "plt.show()\n",
    "\n",
    "nRepeats = 20\n",
    "thetaRepeat = np.linspace(0, nRepeats*2*np.pi, N*nRepeats)\n",
    "rRepeat = np.tile(r, nRepeats)\n",
    "\n",
    "plt.plot(thetaRepeat, rRepeat)\n",
    "plt.show()\n",
    "\n",
    "yf = fft(rRepeat)\n",
    "xf = fftfreq(N*nRepeats, np.diff(thetaRepeat)[0])[:N*nRepeats//2]\n",
    "plt.plot(2*np.pi*xf[1:N*nRepeats//2], 2.0/N*nRepeats * np.abs(yf[1:N*nRepeats//2]))\n",
    "plt.xlim(0, 10)"
   ]
  },
  {
   "cell_type": "code",
   "execution_count": null,
   "metadata": {},
   "outputs": [],
   "source": []
  }
 ],
 "metadata": {
  "kernelspec": {
   "display_name": "py311",
   "language": "python",
   "name": "python3"
  },
  "language_info": {
   "codemirror_mode": {
    "name": "ipython",
    "version": 3
   },
   "file_extension": ".py",
   "mimetype": "text/x-python",
   "name": "python",
   "nbconvert_exporter": "python",
   "pygments_lexer": "ipython3",
   "version": "3.11.5"
  }
 },
 "nbformat": 4,
 "nbformat_minor": 2
}
